{
 "cells": [
  {
   "cell_type": "code",
   "execution_count": 15,
   "metadata": {},
   "outputs": [
    {
     "name": "stdout",
     "output_type": "stream",
     "text": [
      "Employee:  John Smith\n",
      "Salary: $ 2000\n",
      "Bonus: $ 60.0\n",
      "Deductibles: $ 354.32\n",
      "Gross Pay: $ 2060.0\n",
      "Net Pay: $ 1705.68\n"
     ]
    }
   ],
   "source": [
    "def EmpInfo(empName,salary):\n",
    "    if salary<=1000:\n",
    "        bonus= salary * 3.5/100\n",
    "    elif (salary>1000) and (salary<2000):\n",
    "        bonus= salary * 3.25/100\n",
    "    else:\n",
    "        bonus= salary * .03\n",
    "        \n",
    "    grossPay=salary+ bonus\n",
    "    deductibles=grossPay * 17.2/100\n",
    "    netPay=grossPay-deductibles\n",
    "    \n",
    "    print('Employee: ',empName)\n",
    "    print('Salary: $',salary)\n",
    "    print('Bonus: $', bonus)\n",
    "    print('Deductibles: $',deductibles)\n",
    "    print('Gross Pay: $',grossPay)\n",
    "    print('Net Pay: $',netPay)\n",
    "    \n",
    "\n",
    "EmpInfo('John Smith',2000)\n",
    "    \n",
    "        \n",
    "    \n",
    "        "
   ]
  },
  {
   "cell_type": "code",
   "execution_count": null,
   "metadata": {},
   "outputs": [],
   "source": []
  }
 ],
 "metadata": {
  "kernelspec": {
   "display_name": "Python 3",
   "language": "python",
   "name": "python3"
  },
  "language_info": {
   "codemirror_mode": {
    "name": "ipython",
    "version": 3
   },
   "file_extension": ".py",
   "mimetype": "text/x-python",
   "name": "python",
   "nbconvert_exporter": "python",
   "pygments_lexer": "ipython3",
   "version": "3.8.3"
  }
 },
 "nbformat": 4,
 "nbformat_minor": 4
}
